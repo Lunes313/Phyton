{
  "nbformat": 4,
  "nbformat_minor": 0,
  "metadata": {
    "colab": {
      "name": "PythonWithColab.ipynb",
      "provenance": [],
      "collapsed_sections": [],
      "authorship_tag": "ABX9TyN93n6/155F44wuAK+C+xoe",
      "include_colab_link": true
    },
    "kernelspec": {
      "name": "python3",
      "display_name": "Python 3"
    },
    "language_info": {
      "name": "python"
    }
  },
  "cells": [
    {
      "cell_type": "markdown",
      "metadata": {
        "id": "view-in-github",
        "colab_type": "text"
      },
      "source": [
        "<a href=\"https://colab.research.google.com/github/Lunes313/Phyton/blob/main/PythonWithColab.ipynb\" target=\"_parent\"><img src=\"https://colab.research.google.com/assets/colab-badge.svg\" alt=\"Open In Colab\"/></a>"
      ]
    },
    {
      "cell_type": "markdown",
      "source": [
        "Iteracion 6"
      ],
      "metadata": {
        "id": "QSQJrZiar5hC"
      }
    },
    {
      "cell_type": "markdown",
      "source": [
        "Ciclos en python\n",
        "\n",
        "Uso del while"
      ],
      "metadata": {
        "id": "S3NWgCq_XTob"
      }
    },
    {
      "cell_type": "code",
      "source": [
        "i=1\n",
        "while i < 10:\n",
        "  print(i)\n",
        "  i= i+1"
      ],
      "metadata": {
        "colab": {
          "base_uri": "https://localhost:8080/"
        },
        "id": "6llpkWWJXUVU",
        "outputId": "03b7ad76-d8e9-413d-8133-58ba8d3988b1"
      },
      "execution_count": null,
      "outputs": [
        {
          "output_type": "stream",
          "name": "stdout",
          "text": [
            "1\n",
            "2\n",
            "3\n",
            "4\n",
            "5\n",
            "6\n",
            "7\n",
            "8\n",
            "9\n"
          ]
        }
      ]
    },
    {
      "cell_type": "markdown",
      "source": [
        "**EJERCICIO 1**\n",
        "\n",
        "SE CREA UNA LISTA CON LOS NUMEROS DEL 1 AL 10"
      ],
      "metadata": {
        "id": "7BHv-xKIYfo7"
      }
    },
    {
      "cell_type": "code",
      "source": [
        "l=[]\n",
        "i= 1\n",
        "while i<=10:\n",
        "  l.append(i)\n",
        "  i=i+1\n",
        "print(l)"
      ],
      "metadata": {
        "colab": {
          "base_uri": "https://localhost:8080/"
        },
        "id": "L9K-cWfrYf7q",
        "outputId": "5ce237f4-f6e0-49ae-a660-45e650bf26a7"
      },
      "execution_count": null,
      "outputs": [
        {
          "output_type": "stream",
          "name": "stdout",
          "text": [
            "[1, 2, 3, 4, 5, 6, 7, 8, 9, 10]\n"
          ]
        }
      ]
    },
    {
      "cell_type": "markdown",
      "source": [
        "COMIENZAN A HACERSE ITERACIONES PARA DESPLAZAR LOS NUMEROS AL FINAL\n",
        "\n",
        "Iteracion 1"
      ],
      "metadata": {
        "id": "KaBzoot3eJZS"
      }
    },
    {
      "cell_type": "code",
      "source": [
        "l=[]\n",
        "i= 1\n",
        "while i<=10:\n",
        "  l.append(i)\n",
        "  i=i+1\n",
        "for i in l:\n",
        "  l.remove(1)\n",
        "  l.append(1)\n",
        "print(l)"
      ],
      "metadata": {
        "colab": {
          "base_uri": "https://localhost:8080/"
        },
        "id": "NDi6H8TueKmA",
        "outputId": "62cf2d18-a125-405d-af44-eeef8ff70274"
      },
      "execution_count": null,
      "outputs": [
        {
          "output_type": "stream",
          "name": "stdout",
          "text": [
            "[2, 3, 4, 5, 6, 7, 8, 9, 10, 1]\n"
          ]
        }
      ]
    },
    {
      "cell_type": "markdown",
      "source": [
        "\n",
        "Iteracion 2\n",
        "\n"
      ],
      "metadata": {
        "id": "ZZuWHcOziLnB"
      }
    },
    {
      "cell_type": "code",
      "source": [
        "l=[]\n",
        "i= 1\n",
        "while i<=10:\n",
        "  l.append(i)\n",
        "  i=i+1\n",
        "for i in l:\n",
        "  l.remove(1)\n",
        "  l.append(1)\n",
        "for i in l:\n",
        "  l.remove(2)\n",
        "  l.append(2)\n",
        "print(l)"
      ],
      "metadata": {
        "colab": {
          "base_uri": "https://localhost:8080/"
        },
        "id": "juR3nxGhiL6X",
        "outputId": "7e389f30-3879-426d-d8bc-b10e53e3e0c9"
      },
      "execution_count": null,
      "outputs": [
        {
          "output_type": "stream",
          "name": "stdout",
          "text": [
            "[3, 4, 5, 6, 7, 8, 9, 10, 1, 2]\n"
          ]
        }
      ]
    },
    {
      "cell_type": "markdown",
      "source": [
        "Iteracion 3"
      ],
      "metadata": {
        "id": "N8V2BVz-qK0X"
      }
    },
    {
      "cell_type": "code",
      "source": [
        "l=[]\n",
        "i= 1\n",
        "while i<=10:\n",
        "  l.append(i)\n",
        "  i=i+1\n",
        "for i in l:\n",
        "  l.remove(1)\n",
        "  l.append(1)\n",
        "for i in l:\n",
        "  l.remove(2)\n",
        "  l.append(2)\n",
        "for i in l:\n",
        "  l.remove(3)\n",
        "  l.append(3)\n",
        "print(l)"
      ],
      "metadata": {
        "colab": {
          "base_uri": "https://localhost:8080/"
        },
        "id": "gDj5AGH9qLHm",
        "outputId": "188b6686-88fd-4ee0-c279-ae4fb4b8f027"
      },
      "execution_count": null,
      "outputs": [
        {
          "output_type": "stream",
          "name": "stdout",
          "text": [
            "[4, 5, 6, 7, 8, 9, 10, 1, 2, 3]\n"
          ]
        }
      ]
    },
    {
      "cell_type": "markdown",
      "source": [
        "Iteracion 4"
      ],
      "metadata": {
        "id": "gaTDdc83qP22"
      }
    },
    {
      "cell_type": "code",
      "source": [
        "l=[]\n",
        "i= 1\n",
        "while i<=10:\n",
        "  l.append(i)\n",
        "  i=i+1\n",
        "for i in l:\n",
        "  l.remove(1)\n",
        "  l.append(1)\n",
        "for i in l:\n",
        "  l.remove(2)\n",
        "  l.append(2)\n",
        "for i in l:\n",
        "  l.remove(3)\n",
        "  l.append(3)\n",
        "for i in l:\n",
        "  l.remove(4)\n",
        "  l.append(4)\n",
        "print(l)"
      ],
      "metadata": {
        "colab": {
          "base_uri": "https://localhost:8080/"
        },
        "id": "n_s9VyXTrPzG",
        "outputId": "9f4273e1-1910-4a9a-d85a-4100ad2c2c3d"
      },
      "execution_count": null,
      "outputs": [
        {
          "output_type": "stream",
          "name": "stdout",
          "text": [
            "[5, 6, 7, 8, 9, 10, 1, 2, 3, 4]\n"
          ]
        }
      ]
    },
    {
      "cell_type": "markdown",
      "source": [
        "Iteracion 5"
      ],
      "metadata": {
        "id": "XaASJUyVrXJm"
      }
    },
    {
      "cell_type": "code",
      "source": [
        "l=[]\n",
        "i= 1\n",
        "while i<=10:\n",
        "  l.append(i)\n",
        "  i=i+1\n",
        "for i in l:\n",
        "  l.remove(1)\n",
        "  l.append(1)\n",
        "for i in l:\n",
        "  l.remove(2)\n",
        "  l.append(2)\n",
        "for i in l:\n",
        "  l.remove(3)\n",
        "  l.append(3)\n",
        "for i in l:\n",
        "  l.remove(4)\n",
        "  l.append(4)\n",
        "for i in l:\n",
        "  l.remove(5)\n",
        "  l.append(5)\n",
        "print(l)"
      ],
      "metadata": {
        "colab": {
          "base_uri": "https://localhost:8080/"
        },
        "id": "8nB-G-ZUrb6m",
        "outputId": "e4cc8169-b921-4a13-ee48-25a2e7ced16e"
      },
      "execution_count": null,
      "outputs": [
        {
          "output_type": "stream",
          "name": "stdout",
          "text": [
            "[6, 7, 8, 9, 10, 1, 2, 3, 4, 5]\n"
          ]
        }
      ]
    },
    {
      "cell_type": "markdown",
      "source": [
        "Iteracion 6"
      ],
      "metadata": {
        "id": "2cL250lgro8b"
      }
    },
    {
      "cell_type": "code",
      "source": [
        "l=[]\n",
        "i= 1\n",
        "while i<=10:\n",
        "  l.append(i)\n",
        "  i=i+1\n",
        "for i in l:\n",
        "  l.remove(1)\n",
        "  l.append(1)\n",
        "for i in l:\n",
        "  l.remove(2)\n",
        "  l.append(2)\n",
        "for i in l:\n",
        "  l.remove(3)\n",
        "  l.append(3)\n",
        "for i in l:\n",
        "  l.remove(4)\n",
        "  l.append(4)\n",
        "for i in l:\n",
        "  l.remove(5)\n",
        "  l.append(5)\n",
        "for i in l:\n",
        "  l.remove(6)\n",
        "  l.append(6)\n",
        "print(l)"
      ],
      "metadata": {
        "colab": {
          "base_uri": "https://localhost:8080/"
        },
        "outputId": "1112a280-77e1-46f1-a7ad-81e69ea9c801",
        "id": "YyNFjrmyro8c"
      },
      "execution_count": null,
      "outputs": [
        {
          "output_type": "stream",
          "name": "stdout",
          "text": [
            "[7, 8, 9, 10, 1, 2, 3, 4, 5, 6]\n"
          ]
        }
      ]
    },
    {
      "cell_type": "markdown",
      "source": [
        "Iteracion 7"
      ],
      "metadata": {
        "id": "x9b9_o0Hr8rn"
      }
    },
    {
      "cell_type": "code",
      "source": [
        "l=[]\n",
        "i= 1\n",
        "while i<=10:\n",
        "  l.append(i)\n",
        "  i=i+1\n",
        "for i in l:\n",
        "  l.remove(1)\n",
        "  l.append(1)\n",
        "for i in l:\n",
        "  l.remove(2)\n",
        "  l.append(2)\n",
        "for i in l:\n",
        "  l.remove(3)\n",
        "  l.append(3)\n",
        "for i in l:\n",
        "  l.remove(4)\n",
        "  l.append(4)\n",
        "for i in l:\n",
        "  l.remove(5)\n",
        "  l.append(5)\n",
        "for i in l:\n",
        "  l.remove(6)\n",
        "  l.append(6)\n",
        "for i in l:\n",
        "  l.remove(7)\n",
        "  l.append(7)\n",
        "  \n",
        "print(l)"
      ],
      "metadata": {
        "colab": {
          "base_uri": "https://localhost:8080/"
        },
        "outputId": "9470e38a-da2e-4114-f36d-c9ed27b89453",
        "id": "XszPgHKBr8rn"
      },
      "execution_count": null,
      "outputs": [
        {
          "output_type": "stream",
          "name": "stdout",
          "text": [
            "[8, 9, 10, 1, 2, 3, 4, 5, 6, 7]\n"
          ]
        }
      ]
    },
    {
      "cell_type": "markdown",
      "source": [
        "Iteracion 8"
      ],
      "metadata": {
        "id": "ulXD-2-CsOmW"
      }
    },
    {
      "cell_type": "code",
      "source": [
        "l=[]\n",
        "i= 1\n",
        "while i<=10:\n",
        "  l.append(i)\n",
        "  i=i+1\n",
        "for i in l:\n",
        "  l.remove(1)\n",
        "  l.append(1)\n",
        "for i in l:\n",
        "  l.remove(2)\n",
        "  l.append(2)\n",
        "for i in l:\n",
        "  l.remove(3)\n",
        "  l.append(3)\n",
        "for i in l:\n",
        "  l.remove(4)\n",
        "  l.append(4)\n",
        "for i in l:\n",
        "  l.remove(5)\n",
        "  l.append(5)\n",
        "for i in l:\n",
        "  l.remove(6)\n",
        "  l.append(6)\n",
        "for i in l:\n",
        "  l.remove(7)\n",
        "  l.append(7)\n",
        "for i in l:\n",
        "  l.remove(8)\n",
        "  l.append(8)\n",
        "print(l)"
      ],
      "metadata": {
        "colab": {
          "base_uri": "https://localhost:8080/"
        },
        "outputId": "bab73d1d-7360-418a-b91e-8e09443a87c2",
        "id": "_WhMOykOsMMX"
      },
      "execution_count": null,
      "outputs": [
        {
          "output_type": "stream",
          "name": "stdout",
          "text": [
            "[9, 10, 1, 2, 3, 4, 5, 6, 7, 8]\n"
          ]
        }
      ]
    },
    {
      "cell_type": "markdown",
      "source": [
        "Iteracion 9"
      ],
      "metadata": {
        "id": "0j-Txhu3siH9"
      }
    },
    {
      "cell_type": "code",
      "source": [
        "l=[]\n",
        "i= 1\n",
        "while i<=10:\n",
        "  l.append(i)\n",
        "  i=i+1\n",
        "for i in l:\n",
        "  l.remove(1)\n",
        "  l.append(1)\n",
        "for i in l:\n",
        "  l.remove(2)\n",
        "  l.append(2)\n",
        "for i in l:\n",
        "  l.remove(3)\n",
        "  l.append(3)\n",
        "for i in l:\n",
        "  l.remove(4)\n",
        "  l.append(4)\n",
        "for i in l:\n",
        "  l.remove(5)\n",
        "  l.append(5)\n",
        "for i in l:\n",
        "  l.remove(6)\n",
        "  l.append(6)\n",
        "for i in l:\n",
        "  l.remove(7)\n",
        "  l.append(7)\n",
        "for i in l:\n",
        "  l.remove(8)\n",
        "  l.append(8)\n",
        "for i in l:\n",
        "  l.remove(9)\n",
        "  l.append(9)\n",
        "print(l)"
      ],
      "metadata": {
        "colab": {
          "base_uri": "https://localhost:8080/"
        },
        "outputId": "ff2bba21-99e0-4bde-bee5-b2209a98cb22",
        "id": "gCnrhTq4sf88"
      },
      "execution_count": null,
      "outputs": [
        {
          "output_type": "stream",
          "name": "stdout",
          "text": [
            "[10, 1, 2, 3, 4, 5, 6, 7, 8, 9]\n"
          ]
        }
      ]
    },
    {
      "cell_type": "markdown",
      "source": [
        "Iteracion 10"
      ],
      "metadata": {
        "id": "NrXAJnBgsuJt"
      }
    },
    {
      "cell_type": "code",
      "source": [
        "l=[]\n",
        "i= 1\n",
        "while i<=10:\n",
        "  l.append(i)\n",
        "  i=i+1\n",
        "for i in l:\n",
        "  l.remove(1)\n",
        "  l.append(1)\n",
        "for i in l:\n",
        "  l.remove(2)\n",
        "  l.append(2)\n",
        "for i in l:\n",
        "  l.remove(3)\n",
        "  l.append(3)\n",
        "for i in l:\n",
        "  l.remove(4)\n",
        "  l.append(4)\n",
        "for i in l:\n",
        "  l.remove(5)\n",
        "  l.append(5)\n",
        "for i in l:\n",
        "  l.remove(6)\n",
        "  l.append(6)\n",
        "for i in l:\n",
        "  l.remove(7)\n",
        "  l.append(7)\n",
        "for i in l:\n",
        "  l.remove(8)\n",
        "  l.append(8)\n",
        "for i in l:\n",
        "  l.remove(9)\n",
        "  l.append(9)\n",
        "for i in l:\n",
        "  l.remove(10)\n",
        "  l.append(10)\n",
        "print(l)"
      ],
      "metadata": {
        "colab": {
          "base_uri": "https://localhost:8080/"
        },
        "id": "JoEXaal4sxqL",
        "outputId": "4ac6657a-9ee6-4cd8-b9eb-6728415a8b9d"
      },
      "execution_count": null,
      "outputs": [
        {
          "output_type": "stream",
          "name": "stdout",
          "text": [
            "[1, 2, 3, 4, 5, 6, 7, 8, 9, 10]\n"
          ]
        }
      ]
    },
    {
      "cell_type": "markdown",
      "source": [
        "**EJERCICIO 2**\n",
        "\n",
        "-se crea una lista con 20 numeros aleatorios y se muestra "
      ],
      "metadata": {
        "id": "3siGVV1ouXhN"
      }
    },
    {
      "cell_type": "code",
      "source": [
        "import random \n",
        "lista = []\n",
        "for i in range (0,20):\n",
        "  lista.append(random.randint(1,100))\n",
        "print(lista)\n",
        "\n",
        "\n"
      ],
      "metadata": {
        "id": "dAZtjbeMugHd",
        "colab": {
          "base_uri": "https://localhost:8080/"
        },
        "outputId": "c4266d2b-543e-4325-ee14-8e321908e8ab"
      },
      "execution_count": null,
      "outputs": [
        {
          "output_type": "stream",
          "name": "stdout",
          "text": [
            "[70, 65, 82, 91, 47, 23, 100, 32, 58, 61, 80, 1, 1, 11, 1, 27, 86, 38, 50, 33]\n"
          ]
        }
      ]
    },
    {
      "cell_type": "markdown",
      "source": [
        "- se muestra la lista sin los numeros repetidos gracias al uso de la funcion set() que se usa para para mostras un conjunto con los elementos sin repetir "
      ],
      "metadata": {
        "id": "EU_LHJbY2Bzb"
      }
    },
    {
      "cell_type": "code",
      "source": [
        "import random \n",
        "lista = []\n",
        "for i in range (0,20):\n",
        "  lista.append(random.randint(1,100))\n",
        "print(lista)  #esta lista es diferente a la del anterior ejemplo por que genera otros numeros aleatorios \n",
        "set(lista)"
      ],
      "metadata": {
        "colab": {
          "base_uri": "https://localhost:8080/"
        },
        "id": "n0LzwFZV2lII",
        "outputId": "7e0eeca5-a6b9-4167-9aa0-db5f2447a8f9"
      },
      "execution_count": null,
      "outputs": [
        {
          "output_type": "stream",
          "name": "stdout",
          "text": [
            "[82, 42, 25, 28, 76, 47, 6, 56, 44, 29, 42, 1, 74, 10, 2, 47, 28, 85, 80, 18]\n"
          ]
        },
        {
          "output_type": "execute_result",
          "data": {
            "text/plain": [
              "{1, 2, 6, 10, 18, 25, 28, 29, 42, 44, 47, 56, 74, 76, 80, 82, 85}"
            ]
          },
          "metadata": {},
          "execution_count": 128
        }
      ]
    },
    {
      "cell_type": "markdown",
      "source": [
        "**EJERCICIO 3**\n",
        "\n",
        "-se crea una matriz de 10*10 con numeros random"
      ],
      "metadata": {
        "id": "pLdsbPMh4V6S"
      }
    },
    {
      "cell_type": "code",
      "source": [
        "import numpy as np \n",
        "  \n",
        "array = np.random.randint(1000, size=(10, 10)) \n",
        "print(array) "
      ],
      "metadata": {
        "colab": {
          "base_uri": "https://localhost:8080/"
        },
        "id": "rWDgP8hv5Flh",
        "outputId": "9a36a94b-df37-468d-f79e-9e5d6bf16fea"
      },
      "execution_count": null,
      "outputs": [
        {
          "output_type": "stream",
          "name": "stdout",
          "text": [
            "[[ 69 289  11 236 185 134 234 514 857 547]\n",
            " [480 375  85 633 729 594  88  18 463 565]\n",
            " [890   9 416 179 995  32 192 450 584 981]\n",
            " [235 439 542 779 328 797   8 789 363 712]\n",
            " [854 157 554 891 767 992 181 924 754 165]\n",
            " [474 214 542 590 259 581 312 736 382 466]\n",
            " [607  52  19 117 878 796 349 192  73 609]\n",
            " [142 171 844 987 193  70   3 304 317 664]\n",
            " [540  78  52 684 419 474 964  70 271 263]\n",
            " [892 841 544 963 506 961 613 198 907 784]]\n"
          ]
        }
      ]
    },
    {
      "cell_type": "markdown",
      "source": [
        "-hallar el numero mayor "
      ],
      "metadata": {
        "id": "Z5RolZyy8byS"
      }
    },
    {
      "cell_type": "code",
      "source": [
        "import numpy as np \n",
        "  \n",
        "array = np.random.randint(1000, size=(10, 10)) \n",
        "print(array) \n",
        "\n",
        "mayor = array[0][0]\n",
        "\n",
        "for fila in array:\n",
        "  for valor in fila:\n",
        "    if valor > mayor:\n",
        "        mayor=valor\n",
        "\n",
        "print(\"\")\n",
        "print(\"\")\n",
        "print(\"el numero mayor es:\" ,(mayor))\n",
        "np.where(array==mayor)"
      ],
      "metadata": {
        "colab": {
          "base_uri": "https://localhost:8080/"
        },
        "id": "93jSon3b8cPf",
        "outputId": "ede8f8c1-4a84-4879-d049-9ba9af3d4697"
      },
      "execution_count": null,
      "outputs": [
        {
          "output_type": "stream",
          "name": "stdout",
          "text": [
            "[[803 560 777  90 476 750 156 241 790 606]\n",
            " [186  35 372 381 599 943 111 872 431 782]\n",
            " [403 528 965 754 220 969 520 379 423  55]\n",
            " [619 349 244 553 839 900  25 664  58 357]\n",
            " [753 740 686 705 912 880 461  97  27 461]\n",
            " [266 846  50 458 898 597  77 848 156 198]\n",
            " [546 265 365 319 834 750 185 516 553 521]\n",
            " [226  17 665  86 198 739 517  37 305 831]\n",
            " [432 783 716 299 432 257 891  38 981 915]\n",
            " [782 545 177 798 728 898 138   7 646 557]]\n",
            "\n",
            "\n",
            "el numero mayor es: 981\n"
          ]
        },
        {
          "output_type": "execute_result",
          "data": {
            "text/plain": [
              "(array([8]), array([8]))"
            ]
          },
          "metadata": {},
          "execution_count": 164
        }
      ]
    },
    {
      "cell_type": "markdown",
      "source": [
        "-hallar el numero menor"
      ],
      "metadata": {
        "id": "cTaC9U3jJ27h"
      }
    },
    {
      "cell_type": "code",
      "source": [
        "import numpy as np \n",
        "  \n",
        "array = np.random.randint(1000, size=(10, 10)) \n",
        "print(array) \n",
        "\n",
        "menor = array[0][0]\n",
        "\n",
        "for fila in array:\n",
        "  for valor in fila:\n",
        "    if valor < menor:\n",
        "        menor=valor\n",
        "\n",
        "print(\"\")\n",
        "print(\"\")\n",
        "print(\"el numero menor es:\" ,(menor))\n",
        "np.where(array==menor)"
      ],
      "metadata": {
        "colab": {
          "base_uri": "https://localhost:8080/"
        },
        "id": "w9sKDwBhJ6j5",
        "outputId": "2d14e938-e613-4466-a5fc-037d3146c061"
      },
      "execution_count": 166,
      "outputs": [
        {
          "output_type": "stream",
          "name": "stdout",
          "text": [
            "[[827 300  35 335 324 290 235  97 823 833]\n",
            " [333 493 338 704  60 504 299 475 716 466]\n",
            " [315 931 558 973 416 697 817 266 342 425]\n",
            " [783  30  94 691 784 707 488 215 341 198]\n",
            " [257 898 507 933 186 916 758 784 302 272]\n",
            " [ 84 814 449 813 398 213 996 781 251  29]\n",
            " [341 703 257 271 439 213 536  60 401 421]\n",
            " [ 30 931 197 236 965 435 304 519 933 458]\n",
            " [600 198 341 221 647 118 249 346 436  52]\n",
            " [620 239 278 381 372 168 744 544 167 342]]\n",
            "\n",
            "\n",
            "el numero menor es: 29\n"
          ]
        },
        {
          "output_type": "execute_result",
          "data": {
            "text/plain": [
              "(array([5]), array([9]))"
            ]
          },
          "metadata": {},
          "execution_count": 166
        }
      ]
    },
    {
      "cell_type": "markdown",
      "source": [
        "**EJERCICIO 4**\n",
        "\n",
        "-SE CREA UNA MATRIZ DE 10X10 Y LUEGO SE SUMA LA PRIMERA COLUMNA"
      ],
      "metadata": {
        "id": "HOvL0qhMWsTl"
      }
    },
    {
      "cell_type": "code",
      "source": [
        "import numpy as np \n",
        "  \n",
        "array = np.random.randint(1000, size=(10, 10)) \n",
        "print(array)\n",
        "\n",
        "suma = np.sum(array, axis=0)\n",
        "print(suma)\n"
      ],
      "metadata": {
        "colab": {
          "base_uri": "https://localhost:8080/"
        },
        "id": "w69OaSFmWsnc",
        "outputId": "e20edec5-ef30-4ced-de34-5c7ea674b02a"
      },
      "execution_count": 169,
      "outputs": [
        {
          "output_type": "stream",
          "name": "stdout",
          "text": [
            "[[293 790 887 398 428 112 309  56 573 540]\n",
            " [953 969 841 535 818 348 727 473  31 369]\n",
            " [421  15 458 192 988 537 778 950 331 536]\n",
            " [215 704 720 294 973 716 743 460 938 876]\n",
            " [423 353 837 257 277 635 978 382 947 851]\n",
            " [954 543 791 573 191 593  28 257 621  43]\n",
            " [468 312 813 567 474 477 729 328 651 760]\n",
            " [806 109 123 818 808 313 536 476   8 867]\n",
            " [708 808 933 818 548 806 954 265 162 807]\n",
            " [934 487 646 542 337 395 354 940  44 746]]\n",
            "[6175 5090 7049 4994 5842 4932 6136 4587 4306 6395]\n"
          ]
        }
      ]
    }
  ]
}